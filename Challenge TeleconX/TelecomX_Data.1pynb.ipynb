{
 "cells": [
  {
   "cell_type": "code",
   "execution_count": 1,
   "id": "67aea67c",
   "metadata": {},
   "outputs": [],
   "source": [
    "import pandas as pd"
   ]
  },
  {
   "cell_type": "code",
   "execution_count": 2,
   "id": "5ded2dee",
   "metadata": {},
   "outputs": [
    {
     "data": {
      "text/html": [
       "<div>\n",
       "<style scoped>\n",
       "    .dataframe tbody tr th:only-of-type {\n",
       "        vertical-align: middle;\n",
       "    }\n",
       "\n",
       "    .dataframe tbody tr th {\n",
       "        vertical-align: top;\n",
       "    }\n",
       "\n",
       "    .dataframe thead th {\n",
       "        text-align: right;\n",
       "    }\n",
       "</style>\n",
       "<table border=\"1\" class=\"dataframe\">\n",
       "  <thead>\n",
       "    <tr style=\"text-align: right;\">\n",
       "      <th></th>\n",
       "      <th>customerID</th>\n",
       "      <th>Churn</th>\n",
       "      <th>customer</th>\n",
       "      <th>phone</th>\n",
       "      <th>internet</th>\n",
       "      <th>account</th>\n",
       "    </tr>\n",
       "  </thead>\n",
       "  <tbody>\n",
       "    <tr>\n",
       "      <th>0</th>\n",
       "      <td>0002-ORFBO</td>\n",
       "      <td>No</td>\n",
       "      <td>{'gender': 'Female', 'SeniorCitizen': 0, 'Part...</td>\n",
       "      <td>{'PhoneService': 'Yes', 'MultipleLines': 'No'}</td>\n",
       "      <td>{'InternetService': 'DSL', 'OnlineSecurity': '...</td>\n",
       "      <td>{'Contract': 'One year', 'PaperlessBilling': '...</td>\n",
       "    </tr>\n",
       "    <tr>\n",
       "      <th>1</th>\n",
       "      <td>0003-MKNFE</td>\n",
       "      <td>No</td>\n",
       "      <td>{'gender': 'Male', 'SeniorCitizen': 0, 'Partne...</td>\n",
       "      <td>{'PhoneService': 'Yes', 'MultipleLines': 'Yes'}</td>\n",
       "      <td>{'InternetService': 'DSL', 'OnlineSecurity': '...</td>\n",
       "      <td>{'Contract': 'Month-to-month', 'PaperlessBilli...</td>\n",
       "    </tr>\n",
       "    <tr>\n",
       "      <th>2</th>\n",
       "      <td>0004-TLHLJ</td>\n",
       "      <td>Yes</td>\n",
       "      <td>{'gender': 'Male', 'SeniorCitizen': 0, 'Partne...</td>\n",
       "      <td>{'PhoneService': 'Yes', 'MultipleLines': 'No'}</td>\n",
       "      <td>{'InternetService': 'Fiber optic', 'OnlineSecu...</td>\n",
       "      <td>{'Contract': 'Month-to-month', 'PaperlessBilli...</td>\n",
       "    </tr>\n",
       "    <tr>\n",
       "      <th>3</th>\n",
       "      <td>0011-IGKFF</td>\n",
       "      <td>Yes</td>\n",
       "      <td>{'gender': 'Male', 'SeniorCitizen': 1, 'Partne...</td>\n",
       "      <td>{'PhoneService': 'Yes', 'MultipleLines': 'No'}</td>\n",
       "      <td>{'InternetService': 'Fiber optic', 'OnlineSecu...</td>\n",
       "      <td>{'Contract': 'Month-to-month', 'PaperlessBilli...</td>\n",
       "    </tr>\n",
       "    <tr>\n",
       "      <th>4</th>\n",
       "      <td>0013-EXCHZ</td>\n",
       "      <td>Yes</td>\n",
       "      <td>{'gender': 'Female', 'SeniorCitizen': 1, 'Part...</td>\n",
       "      <td>{'PhoneService': 'Yes', 'MultipleLines': 'No'}</td>\n",
       "      <td>{'InternetService': 'Fiber optic', 'OnlineSecu...</td>\n",
       "      <td>{'Contract': 'Month-to-month', 'PaperlessBilli...</td>\n",
       "    </tr>\n",
       "  </tbody>\n",
       "</table>\n",
       "</div>"
      ],
      "text/plain": [
       "   customerID Churn                                           customer  \\\n",
       "0  0002-ORFBO    No  {'gender': 'Female', 'SeniorCitizen': 0, 'Part...   \n",
       "1  0003-MKNFE    No  {'gender': 'Male', 'SeniorCitizen': 0, 'Partne...   \n",
       "2  0004-TLHLJ   Yes  {'gender': 'Male', 'SeniorCitizen': 0, 'Partne...   \n",
       "3  0011-IGKFF   Yes  {'gender': 'Male', 'SeniorCitizen': 1, 'Partne...   \n",
       "4  0013-EXCHZ   Yes  {'gender': 'Female', 'SeniorCitizen': 1, 'Part...   \n",
       "\n",
       "                                             phone  \\\n",
       "0   {'PhoneService': 'Yes', 'MultipleLines': 'No'}   \n",
       "1  {'PhoneService': 'Yes', 'MultipleLines': 'Yes'}   \n",
       "2   {'PhoneService': 'Yes', 'MultipleLines': 'No'}   \n",
       "3   {'PhoneService': 'Yes', 'MultipleLines': 'No'}   \n",
       "4   {'PhoneService': 'Yes', 'MultipleLines': 'No'}   \n",
       "\n",
       "                                            internet  \\\n",
       "0  {'InternetService': 'DSL', 'OnlineSecurity': '...   \n",
       "1  {'InternetService': 'DSL', 'OnlineSecurity': '...   \n",
       "2  {'InternetService': 'Fiber optic', 'OnlineSecu...   \n",
       "3  {'InternetService': 'Fiber optic', 'OnlineSecu...   \n",
       "4  {'InternetService': 'Fiber optic', 'OnlineSecu...   \n",
       "\n",
       "                                             account  \n",
       "0  {'Contract': 'One year', 'PaperlessBilling': '...  \n",
       "1  {'Contract': 'Month-to-month', 'PaperlessBilli...  \n",
       "2  {'Contract': 'Month-to-month', 'PaperlessBilli...  \n",
       "3  {'Contract': 'Month-to-month', 'PaperlessBilli...  \n",
       "4  {'Contract': 'Month-to-month', 'PaperlessBilli...  "
      ]
     },
     "execution_count": 2,
     "metadata": {},
     "output_type": "execute_result"
    }
   ],
   "source": [
    "datos= pd.read_json(r\"C:\\Users\\calde\\OneDrive\\Escritorio\\Challenge TeleconX\\TelecomX_Data.json\")\n",
    "datos.head()"
   ]
  },
  {
   "cell_type": "code",
   "execution_count": 3,
   "id": "6dd05d16",
   "metadata": {},
   "outputs": [
    {
     "name": "stdout",
     "output_type": "stream",
     "text": [
      "<class 'pandas.core.frame.DataFrame'>\n",
      "RangeIndex: 7267 entries, 0 to 7266\n",
      "Data columns (total 6 columns):\n",
      " #   Column      Non-Null Count  Dtype \n",
      "---  ------      --------------  ----- \n",
      " 0   customerID  7267 non-null   object\n",
      " 1   Churn       7267 non-null   object\n",
      " 2   customer    7267 non-null   object\n",
      " 3   phone       7267 non-null   object\n",
      " 4   internet    7267 non-null   object\n",
      " 5   account     7267 non-null   object\n",
      "dtypes: object(6)\n",
      "memory usage: 340.8+ KB\n"
     ]
    }
   ],
   "source": [
    "datos.info()"
   ]
  },
  {
   "cell_type": "markdown",
   "id": "ac2cd2f7",
   "metadata": {},
   "source": [
    "# **Comprobación de incoherencias en los datos**\n"
   ]
  },
  {
   "cell_type": "code",
   "execution_count": 4,
   "id": "ea9bc2e2",
   "metadata": {},
   "outputs": [
    {
     "name": "stdout",
     "output_type": "stream",
     "text": [
      "['No' 'Yes' '']\n"
     ]
    }
   ],
   "source": [
    "print(datos[\"Churn\"].unique())\n",
    "\n"
   ]
  },
  {
   "cell_type": "code",
   "execution_count": 5,
   "id": "1525322d",
   "metadata": {},
   "outputs": [],
   "source": [
    "datos_columns = datos.columns"
   ]
  },
  {
   "cell_type": "code",
   "execution_count": 6,
   "id": "3124fbd1",
   "metadata": {},
   "outputs": [
    {
     "data": {
      "text/html": [
       "<div>\n",
       "<style scoped>\n",
       "    .dataframe tbody tr th:only-of-type {\n",
       "        vertical-align: middle;\n",
       "    }\n",
       "\n",
       "    .dataframe tbody tr th {\n",
       "        vertical-align: top;\n",
       "    }\n",
       "\n",
       "    .dataframe thead th {\n",
       "        text-align: right;\n",
       "    }\n",
       "</style>\n",
       "<table border=\"1\" class=\"dataframe\">\n",
       "  <thead>\n",
       "    <tr style=\"text-align: right;\">\n",
       "      <th></th>\n",
       "      <th>gender</th>\n",
       "      <th>SeniorCitizen</th>\n",
       "      <th>Partner</th>\n",
       "      <th>Dependents</th>\n",
       "      <th>tenure</th>\n",
       "    </tr>\n",
       "  </thead>\n",
       "  <tbody>\n",
       "    <tr>\n",
       "      <th>0</th>\n",
       "      <td>Female</td>\n",
       "      <td>0</td>\n",
       "      <td>Yes</td>\n",
       "      <td>Yes</td>\n",
       "      <td>9</td>\n",
       "    </tr>\n",
       "    <tr>\n",
       "      <th>1</th>\n",
       "      <td>Male</td>\n",
       "      <td>0</td>\n",
       "      <td>No</td>\n",
       "      <td>No</td>\n",
       "      <td>9</td>\n",
       "    </tr>\n",
       "    <tr>\n",
       "      <th>2</th>\n",
       "      <td>Male</td>\n",
       "      <td>0</td>\n",
       "      <td>No</td>\n",
       "      <td>No</td>\n",
       "      <td>4</td>\n",
       "    </tr>\n",
       "    <tr>\n",
       "      <th>3</th>\n",
       "      <td>Male</td>\n",
       "      <td>1</td>\n",
       "      <td>Yes</td>\n",
       "      <td>No</td>\n",
       "      <td>13</td>\n",
       "    </tr>\n",
       "    <tr>\n",
       "      <th>4</th>\n",
       "      <td>Female</td>\n",
       "      <td>1</td>\n",
       "      <td>Yes</td>\n",
       "      <td>No</td>\n",
       "      <td>3</td>\n",
       "    </tr>\n",
       "  </tbody>\n",
       "</table>\n",
       "</div>"
      ],
      "text/plain": [
       "   gender  SeniorCitizen Partner Dependents  tenure\n",
       "0  Female              0     Yes        Yes       9\n",
       "1    Male              0      No         No       9\n",
       "2    Male              0      No         No       4\n",
       "3    Male              1     Yes         No      13\n",
       "4  Female              1     Yes         No       3"
      ]
     },
     "execution_count": 6,
     "metadata": {},
     "output_type": "execute_result"
    }
   ],
   "source": [
    "df_normalized_customer = pd.json_normalize(datos[\"customer\"])\n",
    "df_normalized_customer.head()"
   ]
  },
  {
   "cell_type": "code",
   "execution_count": 7,
   "id": "d1464ac7",
   "metadata": {},
   "outputs": [
    {
     "data": {
      "text/html": [
       "<div>\n",
       "<style scoped>\n",
       "    .dataframe tbody tr th:only-of-type {\n",
       "        vertical-align: middle;\n",
       "    }\n",
       "\n",
       "    .dataframe tbody tr th {\n",
       "        vertical-align: top;\n",
       "    }\n",
       "\n",
       "    .dataframe thead th {\n",
       "        text-align: right;\n",
       "    }\n",
       "</style>\n",
       "<table border=\"1\" class=\"dataframe\">\n",
       "  <thead>\n",
       "    <tr style=\"text-align: right;\">\n",
       "      <th></th>\n",
       "      <th>PhoneService</th>\n",
       "      <th>MultipleLines</th>\n",
       "    </tr>\n",
       "  </thead>\n",
       "  <tbody>\n",
       "    <tr>\n",
       "      <th>0</th>\n",
       "      <td>Yes</td>\n",
       "      <td>No</td>\n",
       "    </tr>\n",
       "    <tr>\n",
       "      <th>1</th>\n",
       "      <td>Yes</td>\n",
       "      <td>Yes</td>\n",
       "    </tr>\n",
       "    <tr>\n",
       "      <th>2</th>\n",
       "      <td>Yes</td>\n",
       "      <td>No</td>\n",
       "    </tr>\n",
       "    <tr>\n",
       "      <th>3</th>\n",
       "      <td>Yes</td>\n",
       "      <td>No</td>\n",
       "    </tr>\n",
       "    <tr>\n",
       "      <th>4</th>\n",
       "      <td>Yes</td>\n",
       "      <td>No</td>\n",
       "    </tr>\n",
       "  </tbody>\n",
       "</table>\n",
       "</div>"
      ],
      "text/plain": [
       "  PhoneService MultipleLines\n",
       "0          Yes            No\n",
       "1          Yes           Yes\n",
       "2          Yes            No\n",
       "3          Yes            No\n",
       "4          Yes            No"
      ]
     },
     "execution_count": 7,
     "metadata": {},
     "output_type": "execute_result"
    }
   ],
   "source": [
    "df_normalized_phone = pd.json_normalize(datos[\"phone\"])\n",
    "df_normalized_phone.head()"
   ]
  },
  {
   "cell_type": "code",
   "execution_count": 8,
   "id": "702b1e64",
   "metadata": {},
   "outputs": [
    {
     "data": {
      "text/html": [
       "<div>\n",
       "<style scoped>\n",
       "    .dataframe tbody tr th:only-of-type {\n",
       "        vertical-align: middle;\n",
       "    }\n",
       "\n",
       "    .dataframe tbody tr th {\n",
       "        vertical-align: top;\n",
       "    }\n",
       "\n",
       "    .dataframe thead th {\n",
       "        text-align: right;\n",
       "    }\n",
       "</style>\n",
       "<table border=\"1\" class=\"dataframe\">\n",
       "  <thead>\n",
       "    <tr style=\"text-align: right;\">\n",
       "      <th></th>\n",
       "      <th>Contract</th>\n",
       "      <th>PaperlessBilling</th>\n",
       "      <th>PaymentMethod</th>\n",
       "      <th>Charges.Monthly</th>\n",
       "      <th>Charges.Total</th>\n",
       "    </tr>\n",
       "  </thead>\n",
       "  <tbody>\n",
       "    <tr>\n",
       "      <th>0</th>\n",
       "      <td>One year</td>\n",
       "      <td>Yes</td>\n",
       "      <td>Mailed check</td>\n",
       "      <td>65.6</td>\n",
       "      <td>593.3</td>\n",
       "    </tr>\n",
       "    <tr>\n",
       "      <th>1</th>\n",
       "      <td>Month-to-month</td>\n",
       "      <td>No</td>\n",
       "      <td>Mailed check</td>\n",
       "      <td>59.9</td>\n",
       "      <td>542.4</td>\n",
       "    </tr>\n",
       "    <tr>\n",
       "      <th>2</th>\n",
       "      <td>Month-to-month</td>\n",
       "      <td>Yes</td>\n",
       "      <td>Electronic check</td>\n",
       "      <td>73.9</td>\n",
       "      <td>280.85</td>\n",
       "    </tr>\n",
       "    <tr>\n",
       "      <th>3</th>\n",
       "      <td>Month-to-month</td>\n",
       "      <td>Yes</td>\n",
       "      <td>Electronic check</td>\n",
       "      <td>98.0</td>\n",
       "      <td>1237.85</td>\n",
       "    </tr>\n",
       "    <tr>\n",
       "      <th>4</th>\n",
       "      <td>Month-to-month</td>\n",
       "      <td>Yes</td>\n",
       "      <td>Mailed check</td>\n",
       "      <td>83.9</td>\n",
       "      <td>267.4</td>\n",
       "    </tr>\n",
       "  </tbody>\n",
       "</table>\n",
       "</div>"
      ],
      "text/plain": [
       "         Contract PaperlessBilling     PaymentMethod  Charges.Monthly  \\\n",
       "0        One year              Yes      Mailed check             65.6   \n",
       "1  Month-to-month               No      Mailed check             59.9   \n",
       "2  Month-to-month              Yes  Electronic check             73.9   \n",
       "3  Month-to-month              Yes  Electronic check             98.0   \n",
       "4  Month-to-month              Yes      Mailed check             83.9   \n",
       "\n",
       "  Charges.Total  \n",
       "0         593.3  \n",
       "1         542.4  \n",
       "2        280.85  \n",
       "3       1237.85  \n",
       "4         267.4  "
      ]
     },
     "execution_count": 8,
     "metadata": {},
     "output_type": "execute_result"
    }
   ],
   "source": [
    "df_normalized_account = pd.json_normalize(datos[\"account\"])\n",
    "df_normalized_account.head()"
   ]
  },
  {
   "cell_type": "code",
   "execution_count": 9,
   "id": "1de73c11",
   "metadata": {},
   "outputs": [
    {
     "data": {
      "text/html": [
       "<div>\n",
       "<style scoped>\n",
       "    .dataframe tbody tr th:only-of-type {\n",
       "        vertical-align: middle;\n",
       "    }\n",
       "\n",
       "    .dataframe tbody tr th {\n",
       "        vertical-align: top;\n",
       "    }\n",
       "\n",
       "    .dataframe thead th {\n",
       "        text-align: right;\n",
       "    }\n",
       "</style>\n",
       "<table border=\"1\" class=\"dataframe\">\n",
       "  <thead>\n",
       "    <tr style=\"text-align: right;\">\n",
       "      <th></th>\n",
       "      <th>customerID</th>\n",
       "      <th>Churn</th>\n",
       "      <th>gender</th>\n",
       "      <th>SeniorCitizen</th>\n",
       "      <th>Partner</th>\n",
       "      <th>Dependents</th>\n",
       "      <th>tenure</th>\n",
       "      <th>Contract</th>\n",
       "      <th>PaperlessBilling</th>\n",
       "      <th>PaymentMethod</th>\n",
       "      <th>Charges.Monthly</th>\n",
       "      <th>Charges.Total</th>\n",
       "      <th>PhoneService</th>\n",
       "      <th>MultipleLines</th>\n",
       "    </tr>\n",
       "  </thead>\n",
       "  <tbody>\n",
       "    <tr>\n",
       "      <th>0</th>\n",
       "      <td>0002-ORFBO</td>\n",
       "      <td>No</td>\n",
       "      <td>Female</td>\n",
       "      <td>0</td>\n",
       "      <td>Yes</td>\n",
       "      <td>Yes</td>\n",
       "      <td>9</td>\n",
       "      <td>One year</td>\n",
       "      <td>Yes</td>\n",
       "      <td>Mailed check</td>\n",
       "      <td>65.6</td>\n",
       "      <td>593.3</td>\n",
       "      <td>Yes</td>\n",
       "      <td>No</td>\n",
       "    </tr>\n",
       "    <tr>\n",
       "      <th>1</th>\n",
       "      <td>0003-MKNFE</td>\n",
       "      <td>No</td>\n",
       "      <td>Male</td>\n",
       "      <td>0</td>\n",
       "      <td>No</td>\n",
       "      <td>No</td>\n",
       "      <td>9</td>\n",
       "      <td>Month-to-month</td>\n",
       "      <td>No</td>\n",
       "      <td>Mailed check</td>\n",
       "      <td>59.9</td>\n",
       "      <td>542.4</td>\n",
       "      <td>Yes</td>\n",
       "      <td>Yes</td>\n",
       "    </tr>\n",
       "    <tr>\n",
       "      <th>2</th>\n",
       "      <td>0004-TLHLJ</td>\n",
       "      <td>Yes</td>\n",
       "      <td>Male</td>\n",
       "      <td>0</td>\n",
       "      <td>No</td>\n",
       "      <td>No</td>\n",
       "      <td>4</td>\n",
       "      <td>Month-to-month</td>\n",
       "      <td>Yes</td>\n",
       "      <td>Electronic check</td>\n",
       "      <td>73.9</td>\n",
       "      <td>280.85</td>\n",
       "      <td>Yes</td>\n",
       "      <td>No</td>\n",
       "    </tr>\n",
       "    <tr>\n",
       "      <th>3</th>\n",
       "      <td>0011-IGKFF</td>\n",
       "      <td>Yes</td>\n",
       "      <td>Male</td>\n",
       "      <td>1</td>\n",
       "      <td>Yes</td>\n",
       "      <td>No</td>\n",
       "      <td>13</td>\n",
       "      <td>Month-to-month</td>\n",
       "      <td>Yes</td>\n",
       "      <td>Electronic check</td>\n",
       "      <td>98.0</td>\n",
       "      <td>1237.85</td>\n",
       "      <td>Yes</td>\n",
       "      <td>No</td>\n",
       "    </tr>\n",
       "    <tr>\n",
       "      <th>4</th>\n",
       "      <td>0013-EXCHZ</td>\n",
       "      <td>Yes</td>\n",
       "      <td>Female</td>\n",
       "      <td>1</td>\n",
       "      <td>Yes</td>\n",
       "      <td>No</td>\n",
       "      <td>3</td>\n",
       "      <td>Month-to-month</td>\n",
       "      <td>Yes</td>\n",
       "      <td>Mailed check</td>\n",
       "      <td>83.9</td>\n",
       "      <td>267.4</td>\n",
       "      <td>Yes</td>\n",
       "      <td>No</td>\n",
       "    </tr>\n",
       "  </tbody>\n",
       "</table>\n",
       "</div>"
      ],
      "text/plain": [
       "   customerID Churn  gender  SeniorCitizen Partner Dependents  tenure  \\\n",
       "0  0002-ORFBO    No  Female              0     Yes        Yes       9   \n",
       "1  0003-MKNFE    No    Male              0      No         No       9   \n",
       "2  0004-TLHLJ   Yes    Male              0      No         No       4   \n",
       "3  0011-IGKFF   Yes    Male              1     Yes         No      13   \n",
       "4  0013-EXCHZ   Yes  Female              1     Yes         No       3   \n",
       "\n",
       "         Contract PaperlessBilling     PaymentMethod  Charges.Monthly  \\\n",
       "0        One year              Yes      Mailed check             65.6   \n",
       "1  Month-to-month               No      Mailed check             59.9   \n",
       "2  Month-to-month              Yes  Electronic check             73.9   \n",
       "3  Month-to-month              Yes  Electronic check             98.0   \n",
       "4  Month-to-month              Yes      Mailed check             83.9   \n",
       "\n",
       "  Charges.Total PhoneService MultipleLines  \n",
       "0         593.3          Yes            No  \n",
       "1         542.4          Yes           Yes  \n",
       "2        280.85          Yes            No  \n",
       "3       1237.85          Yes            No  \n",
       "4         267.4          Yes            No  "
      ]
     },
     "execution_count": 9,
     "metadata": {},
     "output_type": "execute_result"
    }
   ],
   "source": [
    "df_telecom = pd.concat(\n",
    "    [\n",
    "        datos.drop(columns=datos_columns[2:]).reset_index(drop=True),\n",
    "        df_normalized_customer.reset_index(drop=True),\n",
    "        df_normalized_account.reset_index(drop=True),\n",
    "        df_normalized_phone.reset_index(drop=True)\n",
    "    ],\n",
    "    axis=1\n",
    ")\n",
    "   \n",
    "\n",
    "df_telecom.head()"
   ]
  },
  {
   "cell_type": "code",
   "execution_count": 10,
   "id": "9be4f9ee",
   "metadata": {},
   "outputs": [
    {
     "name": "stdout",
     "output_type": "stream",
     "text": [
      "<class 'pandas.core.frame.DataFrame'>\n",
      "RangeIndex: 7267 entries, 0 to 7266\n",
      "Data columns (total 14 columns):\n",
      " #   Column            Non-Null Count  Dtype  \n",
      "---  ------            --------------  -----  \n",
      " 0   customerID        7267 non-null   object \n",
      " 1   Churn             7267 non-null   object \n",
      " 2   gender            7267 non-null   object \n",
      " 3   SeniorCitizen     7267 non-null   int64  \n",
      " 4   Partner           7267 non-null   object \n",
      " 5   Dependents        7267 non-null   object \n",
      " 6   tenure            7267 non-null   int64  \n",
      " 7   Contract          7267 non-null   object \n",
      " 8   PaperlessBilling  7267 non-null   object \n",
      " 9   PaymentMethod     7267 non-null   object \n",
      " 10  Charges.Monthly   7267 non-null   float64\n",
      " 11  Charges.Total     7267 non-null   object \n",
      " 12  PhoneService      7267 non-null   object \n",
      " 13  MultipleLines     7267 non-null   object \n",
      "dtypes: float64(1), int64(2), object(11)\n",
      "memory usage: 795.0+ KB\n"
     ]
    }
   ],
   "source": [
    "df_telecom.info()"
   ]
  },
  {
   "cell_type": "code",
   "execution_count": 11,
   "id": "9b1ec0ec",
   "metadata": {},
   "outputs": [
    {
     "name": "stdout",
     "output_type": "stream",
     "text": [
      "<class 'pandas.core.frame.DataFrame'>\n",
      "RangeIndex: 7267 entries, 0 to 7266\n",
      "Data columns (total 14 columns):\n",
      " #   Column            Non-Null Count  Dtype  \n",
      "---  ------            --------------  -----  \n",
      " 0   customerID        7267 non-null   object \n",
      " 1   Churn             7267 non-null   bool   \n",
      " 2   gender            7267 non-null   object \n",
      " 3   SeniorCitizen     7267 non-null   int64  \n",
      " 4   Partner           7267 non-null   object \n",
      " 5   Dependents        7267 non-null   object \n",
      " 6   tenure            7267 non-null   int64  \n",
      " 7   Contract          7267 non-null   object \n",
      " 8   PaperlessBilling  7267 non-null   bool   \n",
      " 9   PaymentMethod     7267 non-null   object \n",
      " 10  Charges.Monthly   7267 non-null   float64\n",
      " 11  Charges.Total     7267 non-null   object \n",
      " 12  PhoneService      7267 non-null   bool   \n",
      " 13  MultipleLines     7267 non-null   bool   \n",
      "dtypes: bool(4), float64(1), int64(2), object(7)\n",
      "memory usage: 596.2+ KB\n"
     ]
    },
    {
     "name": "stderr",
     "output_type": "stream",
     "text": [
      "C:\\Users\\calde\\AppData\\Local\\Temp\\ipykernel_22908\\730647787.py:3: FutureWarning: DataFrame.applymap has been deprecated. Use DataFrame.map instead.\n",
      "  df_telecom[datos_boolean] = df_telecom[datos_boolean].applymap(lambda x: True if x == \"Yes\" else False)\n"
     ]
    }
   ],
   "source": [
    "datos_boolean = [\"Churn\", \"PaperlessBilling\", \"PhoneService\", \"MultipleLines\"]\n",
    "df_telecom[datos_boolean] = df_telecom[datos_boolean].replace({\"\": \"No\"})\n",
    "df_telecom[datos_boolean] = df_telecom[datos_boolean].applymap(lambda x: True if x == \"Yes\" else False)\n",
    "df_telecom.info()"
   ]
  },
  {
   "cell_type": "code",
   "execution_count": 12,
   "id": "12af5d49",
   "metadata": {},
   "outputs": [
    {
     "name": "stdout",
     "output_type": "stream",
     "text": [
      "   Churn  PaperlessBilling  PhoneService  MultipleLines\n",
      "0  False              True          True          False\n",
      "1  False             False          True           True\n",
      "2   True              True          True          False\n",
      "3   True              True          True          False\n",
      "4   True              True          True          False\n",
      "Churn\n",
      "False    5398\n",
      "True     1869\n",
      "Name: count, dtype: int64\n"
     ]
    }
   ],
   "source": [
    "print(df_telecom[datos_boolean].head())\n",
    "print(df_telecom[\"Churn\"].value_counts())\n"
   ]
  },
  {
   "cell_type": "code",
   "execution_count": 13,
   "id": "6c09b969",
   "metadata": {},
   "outputs": [
    {
     "name": "stdout",
     "output_type": "stream",
     "text": [
      "['One year' 'Month-to-month' 'Two year']\n",
      "[False  True]\n"
     ]
    }
   ],
   "source": [
    "\n",
    "print(df_telecom[\"Contract\"].unique())\n",
    "print(df_telecom[\"Churn\"].unique())\n"
   ]
  },
  {
   "cell_type": "markdown",
   "id": "d468f382",
   "metadata": {},
   "source": [
    "# **Columna de cuentas diarias**"
   ]
  },
  {
   "cell_type": "code",
   "execution_count": 14,
   "id": "06225574",
   "metadata": {},
   "outputs": [
    {
     "data": {
      "text/html": [
       "<div>\n",
       "<style scoped>\n",
       "    .dataframe tbody tr th:only-of-type {\n",
       "        vertical-align: middle;\n",
       "    }\n",
       "\n",
       "    .dataframe tbody tr th {\n",
       "        vertical-align: top;\n",
       "    }\n",
       "\n",
       "    .dataframe thead th {\n",
       "        text-align: right;\n",
       "    }\n",
       "</style>\n",
       "<table border=\"1\" class=\"dataframe\">\n",
       "  <thead>\n",
       "    <tr style=\"text-align: right;\">\n",
       "      <th></th>\n",
       "      <th>customerID</th>\n",
       "      <th>Churn</th>\n",
       "      <th>gender</th>\n",
       "      <th>SeniorCitizen</th>\n",
       "      <th>Partner</th>\n",
       "      <th>Dependents</th>\n",
       "      <th>tenure</th>\n",
       "      <th>Contract</th>\n",
       "      <th>PaperlessBilling</th>\n",
       "      <th>PaymentMethod</th>\n",
       "      <th>Charges.Monthly</th>\n",
       "      <th>Charges.Total</th>\n",
       "      <th>PhoneService</th>\n",
       "      <th>MultipleLines</th>\n",
       "      <th>Charges.Daily</th>\n",
       "    </tr>\n",
       "  </thead>\n",
       "  <tbody>\n",
       "    <tr>\n",
       "      <th>0</th>\n",
       "      <td>0002-ORFBO</td>\n",
       "      <td>False</td>\n",
       "      <td>Female</td>\n",
       "      <td>0</td>\n",
       "      <td>Yes</td>\n",
       "      <td>Yes</td>\n",
       "      <td>9</td>\n",
       "      <td>One year</td>\n",
       "      <td>True</td>\n",
       "      <td>Mailed check</td>\n",
       "      <td>65.6</td>\n",
       "      <td>593.3</td>\n",
       "      <td>True</td>\n",
       "      <td>False</td>\n",
       "      <td>2.187</td>\n",
       "    </tr>\n",
       "    <tr>\n",
       "      <th>1</th>\n",
       "      <td>0003-MKNFE</td>\n",
       "      <td>False</td>\n",
       "      <td>Male</td>\n",
       "      <td>0</td>\n",
       "      <td>No</td>\n",
       "      <td>No</td>\n",
       "      <td>9</td>\n",
       "      <td>Month-to-month</td>\n",
       "      <td>False</td>\n",
       "      <td>Mailed check</td>\n",
       "      <td>59.9</td>\n",
       "      <td>542.4</td>\n",
       "      <td>True</td>\n",
       "      <td>True</td>\n",
       "      <td>1.997</td>\n",
       "    </tr>\n",
       "    <tr>\n",
       "      <th>2</th>\n",
       "      <td>0004-TLHLJ</td>\n",
       "      <td>True</td>\n",
       "      <td>Male</td>\n",
       "      <td>0</td>\n",
       "      <td>No</td>\n",
       "      <td>No</td>\n",
       "      <td>4</td>\n",
       "      <td>Month-to-month</td>\n",
       "      <td>True</td>\n",
       "      <td>Electronic check</td>\n",
       "      <td>73.9</td>\n",
       "      <td>280.85</td>\n",
       "      <td>True</td>\n",
       "      <td>False</td>\n",
       "      <td>2.463</td>\n",
       "    </tr>\n",
       "    <tr>\n",
       "      <th>3</th>\n",
       "      <td>0011-IGKFF</td>\n",
       "      <td>True</td>\n",
       "      <td>Male</td>\n",
       "      <td>1</td>\n",
       "      <td>Yes</td>\n",
       "      <td>No</td>\n",
       "      <td>13</td>\n",
       "      <td>Month-to-month</td>\n",
       "      <td>True</td>\n",
       "      <td>Electronic check</td>\n",
       "      <td>98.0</td>\n",
       "      <td>1237.85</td>\n",
       "      <td>True</td>\n",
       "      <td>False</td>\n",
       "      <td>3.267</td>\n",
       "    </tr>\n",
       "    <tr>\n",
       "      <th>4</th>\n",
       "      <td>0013-EXCHZ</td>\n",
       "      <td>True</td>\n",
       "      <td>Female</td>\n",
       "      <td>1</td>\n",
       "      <td>Yes</td>\n",
       "      <td>No</td>\n",
       "      <td>3</td>\n",
       "      <td>Month-to-month</td>\n",
       "      <td>True</td>\n",
       "      <td>Mailed check</td>\n",
       "      <td>83.9</td>\n",
       "      <td>267.4</td>\n",
       "      <td>True</td>\n",
       "      <td>False</td>\n",
       "      <td>2.797</td>\n",
       "    </tr>\n",
       "  </tbody>\n",
       "</table>\n",
       "</div>"
      ],
      "text/plain": [
       "   customerID  Churn  gender  SeniorCitizen Partner Dependents  tenure  \\\n",
       "0  0002-ORFBO  False  Female              0     Yes        Yes       9   \n",
       "1  0003-MKNFE  False    Male              0      No         No       9   \n",
       "2  0004-TLHLJ   True    Male              0      No         No       4   \n",
       "3  0011-IGKFF   True    Male              1     Yes         No      13   \n",
       "4  0013-EXCHZ   True  Female              1     Yes         No       3   \n",
       "\n",
       "         Contract  PaperlessBilling     PaymentMethod  Charges.Monthly  \\\n",
       "0        One year              True      Mailed check             65.6   \n",
       "1  Month-to-month             False      Mailed check             59.9   \n",
       "2  Month-to-month              True  Electronic check             73.9   \n",
       "3  Month-to-month              True  Electronic check             98.0   \n",
       "4  Month-to-month              True      Mailed check             83.9   \n",
       "\n",
       "  Charges.Total  PhoneService  MultipleLines  Charges.Daily  \n",
       "0         593.3          True          False          2.187  \n",
       "1         542.4          True           True          1.997  \n",
       "2        280.85          True          False          2.463  \n",
       "3       1237.85          True          False          3.267  \n",
       "4         267.4          True          False          2.797  "
      ]
     },
     "execution_count": 14,
     "metadata": {},
     "output_type": "execute_result"
    }
   ],
   "source": [
    "df_telecom[\"Charges.Daily\"] = df_telecom[\"Charges.Monthly\"] / 30\n",
    "df_telecom[\"Charges.Daily\"]= df_telecom[\"Charges.Daily\"].round(3)\n",
    "df_telecom.head()\n"
   ]
  },
  {
   "cell_type": "markdown",
   "id": "9711c913",
   "metadata": {},
   "source": [
    "# **Análisis Descriptivo**"
   ]
  },
  {
   "cell_type": "code",
   "execution_count": 15,
   "id": "4b6a7ec3",
   "metadata": {},
   "outputs": [
    {
     "data": {
      "text/html": [
       "<div>\n",
       "<style scoped>\n",
       "    .dataframe tbody tr th:only-of-type {\n",
       "        vertical-align: middle;\n",
       "    }\n",
       "\n",
       "    .dataframe tbody tr th {\n",
       "        vertical-align: top;\n",
       "    }\n",
       "\n",
       "    .dataframe thead th {\n",
       "        text-align: right;\n",
       "    }\n",
       "</style>\n",
       "<table border=\"1\" class=\"dataframe\">\n",
       "  <thead>\n",
       "    <tr style=\"text-align: right;\">\n",
       "      <th></th>\n",
       "      <th>SeniorCitizen</th>\n",
       "      <th>tenure</th>\n",
       "      <th>Charges.Monthly</th>\n",
       "      <th>Charges.Daily</th>\n",
       "    </tr>\n",
       "  </thead>\n",
       "  <tbody>\n",
       "    <tr>\n",
       "      <th>count</th>\n",
       "      <td>7267.000000</td>\n",
       "      <td>7267.000000</td>\n",
       "      <td>7267.000000</td>\n",
       "      <td>7267.000000</td>\n",
       "    </tr>\n",
       "    <tr>\n",
       "      <th>mean</th>\n",
       "      <td>0.162653</td>\n",
       "      <td>32.346498</td>\n",
       "      <td>64.720098</td>\n",
       "      <td>2.157341</td>\n",
       "    </tr>\n",
       "    <tr>\n",
       "      <th>std</th>\n",
       "      <td>0.369074</td>\n",
       "      <td>24.571773</td>\n",
       "      <td>30.129572</td>\n",
       "      <td>1.004322</td>\n",
       "    </tr>\n",
       "    <tr>\n",
       "      <th>min</th>\n",
       "      <td>0.000000</td>\n",
       "      <td>0.000000</td>\n",
       "      <td>18.250000</td>\n",
       "      <td>0.608000</td>\n",
       "    </tr>\n",
       "    <tr>\n",
       "      <th>25%</th>\n",
       "      <td>0.000000</td>\n",
       "      <td>9.000000</td>\n",
       "      <td>35.425000</td>\n",
       "      <td>1.181000</td>\n",
       "    </tr>\n",
       "    <tr>\n",
       "      <th>50%</th>\n",
       "      <td>0.000000</td>\n",
       "      <td>29.000000</td>\n",
       "      <td>70.300000</td>\n",
       "      <td>2.343000</td>\n",
       "    </tr>\n",
       "    <tr>\n",
       "      <th>75%</th>\n",
       "      <td>0.000000</td>\n",
       "      <td>55.000000</td>\n",
       "      <td>89.875000</td>\n",
       "      <td>2.996000</td>\n",
       "    </tr>\n",
       "    <tr>\n",
       "      <th>max</th>\n",
       "      <td>1.000000</td>\n",
       "      <td>72.000000</td>\n",
       "      <td>118.750000</td>\n",
       "      <td>3.958000</td>\n",
       "    </tr>\n",
       "  </tbody>\n",
       "</table>\n",
       "</div>"
      ],
      "text/plain": [
       "       SeniorCitizen       tenure  Charges.Monthly  Charges.Daily\n",
       "count    7267.000000  7267.000000      7267.000000    7267.000000\n",
       "mean        0.162653    32.346498        64.720098       2.157341\n",
       "std         0.369074    24.571773        30.129572       1.004322\n",
       "min         0.000000     0.000000        18.250000       0.608000\n",
       "25%         0.000000     9.000000        35.425000       1.181000\n",
       "50%         0.000000    29.000000        70.300000       2.343000\n",
       "75%         0.000000    55.000000        89.875000       2.996000\n",
       "max         1.000000    72.000000       118.750000       3.958000"
      ]
     },
     "execution_count": 15,
     "metadata": {},
     "output_type": "execute_result"
    }
   ],
   "source": [
    "df_telecom.describe()"
   ]
  },
  {
   "cell_type": "markdown",
   "id": "39796556",
   "metadata": {},
   "source": [
    "# **Distribución grafica de evasión**"
   ]
  },
  {
   "cell_type": "code",
   "execution_count": 16,
   "id": "a78743a3",
   "metadata": {},
   "outputs": [],
   "source": [
    "import matplotlib.pyplot as plt\n",
    "import seaborn as sns   \n",
    "import plotly.express as px "
   ]
  },
  {
   "cell_type": "code",
   "execution_count": 17,
   "id": "9519593c",
   "metadata": {},
   "outputs": [
    {
     "data": {
      "image/png": "[encoded data removed]",
      "text/plain": [
       "<Figure size 800x800 with 1 Axes>"
      ]
     },
     "metadata": {},
     "output_type": "display_data"
    }
   ],
   "source": [
    "churn_counts = df_telecom[\"Churn\"].value_counts()\n",
    "churn_counts.plot(kind='pie', labels=None, color=['skyblue', 'salmon'], autopct='%1.1f%%', startangle=90, shadow=True, explode=(0.1, 0), figsize=(8, 8))\n",
    "plt.title(\"Porcentaje de evaación de clientes\", fontsize=14, fontweight='bold', pad=20)\n",
    "plt.ylabel('')\n",
    "plt.legend(title='Churn', labels=[\"Clientes activos\", \"Clientes perdidos\"],bbox_to_anchor=(1,1),)\n",
    "plt.show()"
   ]
  },
  {
   "cell_type": "markdown",
   "id": "d31ea4ce",
   "metadata": {},
   "source": [
    "# **Recuento de evasión por variables categóricas**"
   ]
  },
  {
   "cell_type": "code",
   "execution_count": 18,
   "id": "bf6cda74",
   "metadata": {},
   "outputs": [
    {
     "data": {
      "image/png": "[encoded data removed]",
      "text/plain": [
       "<Figure size 2000x1000 with 2 Axes>"
      ]
     },
     "metadata": {},
     "output_type": "display_data"
    }
   ],
   "source": [
    "\n",
    "\n",
    "fig, ax = plt.subplots(1,2 , figsize=(20,10))\n",
    "sns.set(style=\"white\", font_scale=1.5)\n",
    "sns.despine( left=False, bottom=False)\n",
    "\n",
    "sns.barplot(data=df_telecom, hue=\"Contract\", y=\"Churn\",x=\"Contract\" , ax= ax[0], palette=\"tab10\", legend=False , errorbar=None  )\n",
    "ax[0].set_title(\"Evasión por tipo de contrato\",loc='left',fontsize=16, fontweight='bold', pad=20)\n",
    "ax[0].set_ylabel(\"Proporción de evación\", labelpad= 20) \n",
    "ax[0].set_xlabel(\"Tipo de contrato\", labelpad= 20)\n",
    "ax[0].set_ylim(0, 1)\n",
    "for p in ax[0].patches:\n",
    "    ax[0].annotate(f'{p.get_height():.2f}', (p.get_x() + p.get_width() / 2., p.get_height()), ha='center', va='bottom', fontsize=12, color='black', xytext=(0, 5), textcoords='offset points')\n",
    "\n",
    "df_telecom_sorted =df_telecom.sort_values(by=\"PaymentMethod\", ascending=False)\n",
    "sns.barplot( data=df_telecom_sorted, hue=\"PaymentMethod\", y=\"PaymentMethod\", x=\"Churn\" , ax= ax[1], palette=\"tab10\", legend=False , errorbar=None,order= df_telecom_sorted[\"PaymentMethod\"].value_counts().index  )\n",
    "ax[1].set_title(\"Evasión por tipo de contrato\",loc='left',fontsize=16, fontweight='bold', pad=20)\n",
    "ax[1].set_xlabel(\"Proporción de evación\", labelpad= 20) \n",
    "ax[1].set_ylabel(\"Tipo de contrato\", labelpad= 20)\n",
    "ax[1].set_xlim(0, 1)\n",
    "\n",
    "for p in ax[1].patches:\n",
    "    ax[1].annotate(\n",
    "        f'{p.get_width():.2f}',                            \n",
    "        (p.get_x() + p.get_width() + 0.01, p.get_y() + p.get_height() / 2.),  \n",
    "        ha='left', va='center',\n",
    "        fontsize=12, color='black'\n",
    "    )\n",
    "\n",
    "\n",
    "\n",
    "plt.tight_layout()\n",
    "plt.show()  "
   ]
  },
  {
   "cell_type": "code",
   "execution_count": 19,
   "id": "8448446a",
   "metadata": {},
   "outputs": [
    {
     "data": {
      "text/plain": [
       "<matplotlib.legend.Legend at 0x280dab09590>"
      ]
     },
     "execution_count": 19,
     "metadata": {},
     "output_type": "execute_result"
    },
    {
     "data": {
      "image/png": "[encoded data removed]",
      "text/plain": [
       "<Figure size 2000x1000 with 1 Axes>"
      ]
     },
     "metadata": {},
     "output_type": "display_data"
    }
   ],
   "source": [
    "fig, ax = plt.subplots(1,1 , figsize=(20,10))\n",
    "sns.set(style=\"white\", font_scale=1.5)\n",
    "sns.despine( left=False, bottom=False)\n",
    "\n",
    "churn_genero = df_telecom.groupby(\"gender\")[\"Churn\"].mean().reset_index()\n",
    "ax.pie(churn_genero[\"Churn\"], labels= None, colors=['skyblue', 'salmon'], autopct='%1.1f%%', startangle=90, shadow=True, radius=1.2)\n",
    "ax.set_title(\"Evación de clientes segun su genero\", fontsize=14, fontweight='bold', pad=20)\n",
    "plt.legend(title='Churn', labels=[\"Hombres\", \"Mujeres\"],bbox_to_anchor=(1,1))"
   ]
  },
  {
   "cell_type": "markdown",
   "id": "ffe5e488",
   "metadata": {},
   "source": [
    "# **Conteo de evasión por variables numéricas**"
   ]
  },
  {
   "cell_type": "code",
   "execution_count": 36,
   "id": "1db037df",
   "metadata": {},
   "outputs": [
    {
     "name": "stderr",
     "output_type": "stream",
     "text": [
      "C:\\Users\\calde\\AppData\\Local\\Temp\\ipykernel_22908\\3245357244.py:19: FutureWarning: The default of observed=False is deprecated and will be changed to True in a future version of pandas. Pass observed=False to retain current behavior or observed=True to adopt the future default and silence this warning.\n",
      "  churn_by_tenure = df_telecom.groupby('tenure_group')['Churn'].mean().reset_index()\n"
     ]
    },
    {
     "data": {
      "image/png": "[encoded data removed]",
      "text/plain": [
       "<Figure size 2000x1000 with 2 Axes>"
      ]
     },
     "metadata": {},
     "output_type": "display_data"
    }
   ],
   "source": [
    "fig, ax = plt.subplots(1,2 , figsize=(20,10))\n",
    "sns.set(style=\"white\", font_scale=1.5)\n",
    "sns.despine( left=False, bottom=False)\n",
    "\n",
    "bins = pd.qcut(df_telecom['Charges.Monthly'], q=[0, 0.25, 0.5, 0.75, 1.0], duplicates='drop')\n",
    "labels = [f\"{int(i.left)} – {int(i.right)}\" for i in bins.cat.categories]\n",
    "df_telecom['Charges.Grupo'] = pd.qcut(df_telecom['Charges.Monthly'], q=[0, 0.25, 0.5, 0.75, 1.0], labels=labels)\n",
    "\n",
    "\n",
    "\n",
    "\n",
    "sns.lineplot(data=df_telecom,y=\"Churn\", x=df_telecom['Charges.Grupo'] , ax= ax[0], color=\"skyblue\",  legend=False , errorbar=None, linewidth=4 )\n",
    "ax[0].set_title(\"Evasión segun los cargos mensuales\",loc='left',fontsize=16, fontweight='bold', pad=20)\n",
    "ax[0].set_ylabel(\"Proporción de evación\", labelpad= 20)\n",
    "ax[0].set_xlabel(\"Grupo de cargos\", labelpad= 20) \n",
    "ax[0].set_ylim(0.1, 1)\n",
    "\n",
    "df_telecom['tenure_group'] = pd.cut(df_telecom['tenure'], bins=range(0, 81, 10))\n",
    "churn_by_tenure = df_telecom.groupby('tenure_group')['Churn'].mean().reset_index()\n",
    "churn_by_tenure['tenure_group'] = churn_by_tenure['tenure_group'].astype(str)\n",
    "\n",
    "sns.lineplot(data=churn_by_tenure, y=\"Churn\", x='tenure_group', ax=ax[1], color=\"green\", legend=False, errorbar=None, linewidth=4)\n",
    "ax[1].set_title(\"Evasión según el tiempo como Clientes\", loc='left', fontsize=16, fontweight='bold', pad=20)\n",
    "ax[1].set_xlabel(\"Tiempo en la compañía en meses\", labelpad=20)\n",
    "ax[1].set_ylabel(\"Proporción de evasión\", labelpad=20)\n",
    "ax[1].set_ylim(0.1, 1)\n",
    "\n",
    "\n",
    "\n",
    "plt.tight_layout()\n",
    "plt.show()"
   ]
  },
  {
   "cell_type": "code",
   "execution_count": 47,
   "id": "aee7c8c9",
   "metadata": {},
   "outputs": [
    {
     "name": "stderr",
     "output_type": "stream",
     "text": [
      "C:\\Users\\calde\\AppData\\Local\\Temp\\ipykernel_22908\\4094594705.py:9: FutureWarning:\n",
      "\n",
      "The default of observed=False is deprecated and will be changed to True in a future version of pandas. Pass observed=False to retain current behavior or observed=True to adopt the future default and silence this warning.\n",
      "\n"
     ]
    },
    {
     "data": {
      "application/vnd.plotly.v1+json": {
       "config": {
        "plotlyServerURL": "https://plot.ly"
       },
       "data": [
        {
         "hovertemplate": "Cargo total (cuartiles)=%{x}<br>Proporción de evasión=%{y}<extra></extra>",
         "legendgroup": "",
         "line": {
          "color": "green",
          "dash": "solid",
          "width": 4
         },
         "marker": {
          "symbol": "circle"
         },
         "mode": "lines+markers",
         "name": "",
         "orientation": "v",
         "showlegend": false,
         "type": "scatter",
         "x": [
          "18 – 400",
          "400 – 1391",
          "1391 – 3785",
          "3785 – 8684"
         ],
         "xaxis": "x",
         "y": {
          "bdata": "GfjTU2Xr2j/Yabs4hXjPP3Ssdwjmk8w/U/Ebd07+wT8=",
          "dtype": "f8"
         },
         "yaxis": "y"
        }
       ],
       "layout": {
        "legend": {
         "tracegroupgap": 0
        },
        "template": {
         "data": {
          "bar": [
           {
            "error_x": {
             "color": "#2a3f5f"
            },
            "error_y": {
             "color": "#2a3f5f"
            },
            "marker": {
             "line": {
              "color": "#E5ECF6",
              "width": 0.5
             },
             "pattern": {
              "fillmode": "overlay",
              "size": 10,
              "solidity": 0.2
             }
            },
            "type": "bar"
           }
          ],
          "barpolar": [
           {
            "marker": {
             "line": {
              "color": "#E5ECF6",
              "width": 0.5
             },
             "pattern": {
              "fillmode": "overlay",
              "size": 10,
              "solidity": 0.2
             }
            },
            "type": "barpolar"
           }
          ],
          "carpet": [
           {
            "aaxis": {
             "endlinecolor": "#2a3f5f",
             "gridcolor": "white",
             "linecolor": "white",
             "minorgridcolor": "white",
             "startlinecolor": "#2a3f5f"
            },
            "baxis": {
             "endlinecolor": "#2a3f5f",
             "gridcolor": "white",
             "linecolor": "white",
             "minorgridcolor": "white",
             "startlinecolor": "#2a3f5f"
            },
            "type": "carpet"
           }
          ],
          "choropleth": [
           {
            "colorbar": {
             "outlinewidth": 0,
             "ticks": ""
            },
            "type": "choropleth"
           }
          ],
          "contour": [
           {
            "colorbar": {
             "outlinewidth": 0,
             "ticks": ""
            },
            "colorscale": [
             [
              0,
              "#0d0887"
             ],
             [
              0.1111111111111111,
              "#46039f"
             ],
             [
              0.2222222222222222,
              "#7201a8"
             ],
             [
              0.3333333333333333,
              "#9c179e"
             ],
             [
              0.4444444444444444,
              "#bd3786"
             ],
             [
              0.5555555555555556,
              "#d8576b"
             ],
             [
              0.6666666666666666,
              "#ed7953"
             ],
             [
              0.7777777777777778,
              "#fb9f3a"
             ],
             [
              0.8888888888888888,
              "#fdca26"
             ],
             [
              1,
              "#f0f921"
             ]
            ],
            "type": "contour"
           }
          ],
          "contourcarpet": [
           {
            "colorbar": {
             "outlinewidth": 0,
             "ticks": ""
            },
            "type": "contourcarpet"
           }
          ],
          "heatmap": [
           {
            "colorbar": {
             "outlinewidth": 0,
             "ticks": ""
            },
            "colorscale": [
             [
              0,
              "#0d0887"
             ],
             [
              0.1111111111111111,
              "#46039f"
             ],
             [
              0.2222222222222222,
              "#7201a8"
             ],
             [
              0.3333333333333333,
              "#9c179e"
             ],
             [
              0.4444444444444444,
              "#bd3786"
             ],
             [
              0.5555555555555556,
              "#d8576b"
             ],
             [
              0.6666666666666666,
              "#ed7953"
             ],
             [
              0.7777777777777778,
              "#fb9f3a"
             ],
             [
              0.8888888888888888,
              "#fdca26"
             ],
             [
              1,
              "#f0f921"
             ]
            ],
            "type": "heatmap"
           }
          ],
          "histogram": [
           {
            "marker": {
             "pattern": {
              "fillmode": "overlay",
              "size": 10,
              "solidity": 0.2
             }
            },
            "type": "histogram"
           }
          ],
          "histogram2d": [
           {
            "colorbar": {
             "outlinewidth": 0,
             "ticks": ""
            },
            "colorscale": [
             [
              0,
              "#0d0887"
             ],
             [
              0.1111111111111111,
              "#46039f"
             ],
             [
              0.2222222222222222,
              "#7201a8"
             ],
             [
              0.3333333333333333,
              "#9c179e"
             ],
             [
              0.4444444444444444,
              "#bd3786"
             ],
             [
              0.5555555555555556,
              "#d8576b"
             ],
             [
              0.6666666666666666,
              "#ed7953"
             ],
             [
              0.7777777777777778,
              "#fb9f3a"
             ],
             [
              0.8888888888888888,
              "#fdca26"
             ],
             [
              1,
              "#f0f921"
             ]
            ],
            "type": "histogram2d"
           }
          ],
          "histogram2dcontour": [
           {
            "colorbar": {
             "outlinewidth": 0,
             "ticks": ""
            },
            "colorscale": [
             [
              0,
              "#0d0887"
             ],
             [
              0.1111111111111111,
              "#46039f"
             ],
             [
              0.2222222222222222,
              "#7201a8"
             ],
             [
              0.3333333333333333,
              "#9c179e"
             ],
             [
              0.4444444444444444,
              "#bd3786"
             ],
             [
              0.5555555555555556,
              "#d8576b"
             ],
             [
              0.6666666666666666,
              "#ed7953"
             ],
             [
              0.7777777777777778,
              "#fb9f3a"
             ],
             [
              0.8888888888888888,
              "#fdca26"
             ],
             [
              1,
              "#f0f921"
             ]
            ],
            "type": "histogram2dcontour"
           }
          ],
          "mesh3d": [
           {
            "colorbar": {
             "outlinewidth": 0,
             "ticks": ""
            },
            "type": "mesh3d"
           }
          ],
          "parcoords": [
           {
            "line": {
             "colorbar": {
              "outlinewidth": 0,
              "ticks": ""
             }
            },
            "type": "parcoords"
           }
          ],
          "pie": [
           {
            "automargin": true,
            "type": "pie"
           }
          ],
          "scatter": [
           {
            "fillpattern": {
             "fillmode": "overlay",
             "size": 10,
             "solidity": 0.2
            },
            "type": "scatter"
           }
          ],
          "scatter3d": [
           {
            "line": {
             "colorbar": {
              "outlinewidth": 0,
              "ticks": ""
             }
            },
            "marker": {
             "colorbar": {
              "outlinewidth": 0,
              "ticks": ""
             }
            },
            "type": "scatter3d"
           }
          ],
          "scattercarpet": [
           {
            "marker": {
             "colorbar": {
              "outlinewidth": 0,
              "ticks": ""
             }
            },
            "type": "scattercarpet"
           }
          ],
          "scattergeo": [
           {
            "marker": {
             "colorbar": {
              "outlinewidth": 0,
              "ticks": ""
             }
            },
            "type": "scattergeo"
           }
          ],
          "scattergl": [
           {
            "marker": {
             "colorbar": {
              "outlinewidth": 0,
              "ticks": ""
             }
            },
            "type": "scattergl"
           }
          ],
          "scattermap": [
           {
            "marker": {
             "colorbar": {
              "outlinewidth": 0,
              "ticks": ""
             }
            },
            "type": "scattermap"
           }
          ],
          "scattermapbox": [
           {
            "marker": {
             "colorbar": {
              "outlinewidth": 0,
              "ticks": ""
             }
            },
            "type": "scattermapbox"
           }
          ],
          "scatterpolar": [
           {
            "marker": {
             "colorbar": {
              "outlinewidth": 0,
              "ticks": ""
             }
            },
            "type": "scatterpolar"
           }
          ],
          "scatterpolargl": [
           {
            "marker": {
             "colorbar": {
              "outlinewidth": 0,
              "ticks": ""
             }
            },
            "type": "scatterpolargl"
           }
          ],
          "scatterternary": [
           {
            "marker": {
             "colorbar": {
              "outlinewidth": 0,
              "ticks": ""
             }
            },
            "type": "scatterternary"
           }
          ],
          "surface": [
           {
            "colorbar": {
             "outlinewidth": 0,
             "ticks": ""
            },
            "colorscale": [
             [
              0,
              "#0d0887"
             ],
             [
              0.1111111111111111,
              "#46039f"
             ],
             [
              0.2222222222222222,
              "#7201a8"
             ],
             [
              0.3333333333333333,
              "#9c179e"
             ],
             [
              0.4444444444444444,
              "#bd3786"
             ],
             [
              0.5555555555555556,
              "#d8576b"
             ],
             [
              0.6666666666666666,
              "#ed7953"
             ],
             [
              0.7777777777777778,
              "#fb9f3a"
             ],
             [
              0.8888888888888888,
              "#fdca26"
             ],
             [
              1,
              "#f0f921"
             ]
            ],
            "type": "surface"
           }
          ],
          "table": [
           {
            "cells": {
             "fill": {
              "color": "#EBF0F8"
             },
             "line": {
              "color": "white"
             }
            },
            "header": {
             "fill": {
              "color": "#C8D4E3"
             },
             "line": {
              "color": "white"
             }
            },
            "type": "table"
           }
          ]
         },
         "layout": {
          "annotationdefaults": {
           "arrowcolor": "#2a3f5f",
           "arrowhead": 0,
           "arrowwidth": 1
          },
          "autotypenumbers": "strict",
          "coloraxis": {
           "colorbar": {
            "outlinewidth": 0,
            "ticks": ""
           }
          },
          "colorscale": {
           "diverging": [
            [
             0,
             "#8e0152"
            ],
            [
             0.1,
             "#c51b7d"
            ],
            [
             0.2,
             "#de77ae"
            ],
            [
             0.3,
             "#f1b6da"
            ],
            [
             0.4,
             "#fde0ef"
            ],
            [
             0.5,
             "#f7f7f7"
            ],
            [
             0.6,
             "#e6f5d0"
            ],
            [
             0.7,
             "#b8e186"
            ],
            [
             0.8,
             "#7fbc41"
            ],
            [
             0.9,
             "#4d9221"
            ],
            [
             1,
             "#276419"
            ]
           ],
           "sequential": [
            [
             0,
             "#0d0887"
            ],
            [
             0.1111111111111111,
             "#46039f"
            ],
            [
             0.2222222222222222,
             "#7201a8"
            ],
            [
             0.3333333333333333,
             "#9c179e"
            ],
            [
             0.4444444444444444,
             "#bd3786"
            ],
            [
             0.5555555555555556,
             "#d8576b"
            ],
            [
             0.6666666666666666,
             "#ed7953"
            ],
            [
             0.7777777777777778,
             "#fb9f3a"
            ],
            [
             0.8888888888888888,
             "#fdca26"
            ],
            [
             1,
             "#f0f921"
            ]
           ],
           "sequentialminus": [
            [
             0,
             "#0d0887"
            ],
            [
             0.1111111111111111,
             "#46039f"
            ],
            [
             0.2222222222222222,
             "#7201a8"
            ],
            [
             0.3333333333333333,
             "#9c179e"
            ],
            [
             0.4444444444444444,
             "#bd3786"
            ],
            [
             0.5555555555555556,
             "#d8576b"
            ],
            [
             0.6666666666666666,
             "#ed7953"
            ],
            [
             0.7777777777777778,
             "#fb9f3a"
            ],
            [
             0.8888888888888888,
             "#fdca26"
            ],
            [
             1,
             "#f0f921"
            ]
           ]
          },
          "colorway": [
           "#636efa",
           "#EF553B",
           "#00cc96",
           "#ab63fa",
           "#FFA15A",
           "#19d3f3",
           "#FF6692",
           "#B6E880",
           "#FF97FF",
           "#FECB52"
          ],
          "font": {
           "color": "#2a3f5f"
          },
          "geo": {
           "bgcolor": "white",
           "lakecolor": "white",
           "landcolor": "#E5ECF6",
           "showlakes": true,
           "showland": true,
           "subunitcolor": "white"
          },
          "hoverlabel": {
           "align": "left"
          },
          "hovermode": "closest",
          "mapbox": {
           "style": "light"
          },
          "paper_bgcolor": "white",
          "plot_bgcolor": "#E5ECF6",
          "polar": {
           "angularaxis": {
            "gridcolor": "white",
            "linecolor": "white",
            "ticks": ""
           },
           "bgcolor": "#E5ECF6",
           "radialaxis": {
            "gridcolor": "white",
            "linecolor": "white",
            "ticks": ""
           }
          },
          "scene": {
           "xaxis": {
            "backgroundcolor": "#E5ECF6",
            "gridcolor": "white",
            "gridwidth": 2,
            "linecolor": "white",
            "showbackground": true,
            "ticks": "",
            "zerolinecolor": "white"
           },
           "yaxis": {
            "backgroundcolor": "#E5ECF6",
            "gridcolor": "white",
            "gridwidth": 2,
            "linecolor": "white",
            "showbackground": true,
            "ticks": "",
            "zerolinecolor": "white"
           },
           "zaxis": {
            "backgroundcolor": "#E5ECF6",
            "gridcolor": "white",
            "gridwidth": 2,
            "linecolor": "white",
            "showbackground": true,
            "ticks": "",
            "zerolinecolor": "white"
           }
          },
          "shapedefaults": {
           "line": {
            "color": "#2a3f5f"
           }
          },
          "ternary": {
           "aaxis": {
            "gridcolor": "white",
            "linecolor": "white",
            "ticks": ""
           },
           "baxis": {
            "gridcolor": "white",
            "linecolor": "white",
            "ticks": ""
           },
           "bgcolor": "#E5ECF6",
           "caxis": {
            "gridcolor": "white",
            "linecolor": "white",
            "ticks": ""
           }
          },
          "title": {
           "x": 0.05
          },
          "xaxis": {
           "automargin": true,
           "gridcolor": "white",
           "linecolor": "white",
           "ticks": "",
           "title": {
            "standoff": 15
           },
           "zerolinecolor": "white",
           "zerolinewidth": 2
          },
          "yaxis": {
           "automargin": true,
           "gridcolor": "white",
           "linecolor": "white",
           "ticks": "",
           "title": {
            "standoff": 15
           },
           "zerolinecolor": "white",
           "zerolinewidth": 2
          }
         }
        },
        "title": {
         "text": "Proporción de evasión según cargo total",
         "x": 0
        },
        "xaxis": {
         "anchor": "y",
         "domain": [
          0,
          1
         ],
         "title": {
          "text": "Cargo total (cuartiles)"
         }
        },
        "yaxis": {
         "anchor": "x",
         "domain": [
          0,
          1
         ],
         "title": {
          "text": "Proporción de evasión"
         }
        }
       }
      }
     },
     "metadata": {},
     "output_type": "display_data"
    }
   ],
   "source": [
    "\n",
    "df_telecom['Charges.Total'] = pd.to_numeric(df_telecom['Charges.Total'], errors='coerce')\n",
    "df_telecom = df_telecom[df_telecom['Charges.Total'].notna()]\n",
    "\n",
    "bins = pd.qcut(df_telecom['Charges.Total'], q=[0, 0.25, 0.5, 0.75, 1.0], duplicates='drop')\n",
    "labels = [f\"{int(i.left)} – {int(i.right)}\" for i in bins.cat.categories]\n",
    "df_telecom['tcharges_group'] = pd.qcut(df_telecom['Charges.Total'], q=[0, 0.25, 0.5, 0.75, 1.0], labels=labels, duplicates='drop')\n",
    "\n",
    "# Agrupar y graficar\n",
    "churn_by_tcharges = df_telecom.groupby('tcharges_group')['Churn'].mean().reset_index()\n",
    "\n",
    "fig = px.line(\n",
    "    churn_by_tcharges,\n",
    "    x='tcharges_group',\n",
    "    y='Churn',\n",
    "    title=\"Proporción de evasión según cargo total\",\n",
    "    labels={'tcharges_group': 'Cargo total (cuartiles)', 'Churn': 'Proporción de evasión'},\n",
    "    markers=True\n",
    ")\n",
    "\n",
    "fig.update_traces(line=dict(color='green', width=4))\n",
    "fig.update_layout(title_x=0.0)\n",
    "fig.show()"
   ]
  },
  {
   "cell_type": "markdown",
   "id": "8ff72809",
   "metadata": {},
   "source": [
    "\n",
    "# **Informe de Análisis de Evasión de Clientes en TelecomX**\n",
    "\n"
   ]
  },
  {
   "cell_type": "markdown",
   "id": "a3c89912",
   "metadata": {},
   "source": [
    "##  **Introducción**\n",
    "El objetivo de este análisis es identificar y comprender los patrones de evasión de clientes en TelecomX, utilizando datos históricos de clientes. La evasión de clientes es un problema crítico en la industria de telecomunicaciones, ya que representa la pérdida de clientes y, por ende, de ingresos.\n",
    "\n"
   ]
  },
  {
   "cell_type": "markdown",
   "id": "2a9dcf81",
   "metadata": {},
   "source": [
    "## **Objetivos específicos**:\n",
    "\n",
    "-Analizar la tasa de evasión y su distribución.\n",
    "\n",
    "-Identificar variables clave asociadas a la evasión.\n",
    "\n",
    "-Proponer estrategias para reducir la evasión basadas en insights obtenidos.\n",
    "\n"
   ]
  },
  {
   "cell_type": "markdown",
   "id": "a3c9ed5b",
   "metadata": {},
   "source": [
    "## **Limpieza y Tratamiento de Datos**\n",
    "1. **Importación y Exploración Inicial**\n",
    "    Se importaron los datos desde un archivo JSON utilizando pandas.\n",
    "\n",
    "    Los datos contienen información sobre clientes, como:\n",
    "\n",
    "    -customerID: Identificador único del cliente.\n",
    "\n",
    "    -Evasión: Indicador binario (Sí/No) de si el cliente abandonó el servicio.\n",
    "\n",
    "    -Variables categóricas (gender, Partner, Dependents, etc.).\n",
    "\n",
    "    -Variables numéricas (tenure, Charges.Monthly, Charges.Total, etc.).\n",
    "\n",
    "2. **Limpieza y Transformación**\n",
    "    -Datos faltantes: Se verificó que no hubiera valores nulos en las columnas clave.\n",
    "\n",
    "    -Normalización de datos anidados: Se utilizó json_normalize para desanidar campos JSON en columnas separadas.\n",
    "\n",
    "    -Conversión de variables categóricas:\n",
    "\n",
    "    -Evasión se transformó a booleano (True para \"Sí\", False para \"No\").\n",
    "\n",
    "    -Otras variables como PaperlessBilling, PhoneService, y MultipleLines también se convirtieron a booleanos.\n",
    "\n",
    "    -Creación de nuevas métricas:\n",
    "\n",
    "    -Charges.Daily: Cálculo del costo diario basado en Charges.Monthly.\n",
    "\n",
    "\n"
   ]
  },
  {
   "cell_type": "markdown",
   "id": "aaf666de",
   "metadata": {},
   "source": [
    "## **Análisis Exploratorio de Datos (EDA)**\n",
    "1. ***Distribución de la Evasión***\n",
    "\n",
    "**Tasa de Evasión**:\n",
    "\n",
    "26.7% de los clientes abandonaron el servicio.\n",
    "\n",
    "73.3% permanecieron activos.\n",
    "\n",
    "2. ***Relación entre Variables y Evasión***\n",
    "\n",
    "a. **Género**\n",
    "\n",
    "    No hay una diferencia significativa en la tasa de evasión entre hombres y mujeres.\n",
    "\n",
    "b. **Servicios Adicionales**\n",
    "\n",
    "    MultipleLines: Los clientes con múltiples líneas tienen una tasa de evasión ligeramente mayor.\n",
    "\n",
    "    InternetService: Los clientes con servicio de fibra óptica tienden a abandonar más que los de DSL.\n",
    "\n",
    "c. **Facturación y Contrato**\n",
    "\n",
    "    PaperlessBilling: Los clientes con facturación electrónica tienen mayor evasión.\n",
    "\n",
    "    Contract: Los clientes con contratos mensuales presentan mayor evasión que aquellos con contratos anuales o bianuales.\n",
    "\n",
    "d. **Cargos y Antigüedad (tenure)**\n",
    "\n",
    "    Clientes con baja antigüedad (tenure < 12 meses): Mayor probabilidad de evasión.\n",
    "\n",
    "    Clientes con cargos altos (Charges.Monthly): Más propensos a abandonar.\n",
    "\n",
    "\n"
   ]
  },
  {
   "cell_type": "markdown",
   "id": "81e190e0",
   "metadata": {},
   "source": [
    "##  ***Conclusiones e Insights***\n",
    "**Factores clave asociados a la Evasión**:\n",
    "\n",
    "    -Contratos mensuales y facturación electrónica están correlacionados con mayor evasión.\n",
    "\n",
    "    -Clientes nuevos (poca antigüedad) son más vulnerables a abandonar el servicio.\n",
    "\n",
    "    -Servicios de fibra óptica tienen mayor tasa de evasión, posiblemente por competencia o insatisfacción con el servicio.\n",
    "\n",
    "    -Clientes con múltiples líneas presentan mayor evasión, lo que sugiere que la complejidad del servicio podría afectar la retención.\n",
    "\n",
    "    -No hay diferencias significativas por género, lo que indica que la evasión no está influenciada por esta variable.\n",
    "\n"
   ]
  },
  {
   "cell_type": "markdown",
   "id": "374f4af9",
   "metadata": {},
   "source": [
    "## **Recomendaciones**\n",
    "1. Mejorar la Retención de Clientes Nuevos\n",
    "Programas de onboarding para clientes con menos de 12 meses.\n",
    "\n",
    "Ofertas especiales para fidelización en los primeros meses.\n",
    "\n",
    "2. Revisar Contratos Mensuales\n",
    "Incentivar contratos anuales con descuentos o beneficios adicionales.\n",
    "\n",
    "Flexibilizar condiciones de cancelación para reducir frustración.\n",
    "\n",
    "3. Optimizar Servicios de Fibra Óptica\n",
    "Encuestas de satisfacción para identificar problemas específicos.\n",
    "\n",
    "Mejorar soporte técnico y velocidad prometida vs. entregada.\n",
    "\n",
    "4. Rediseñar Facturación Electrónica\n",
    "Simplificar el proceso y ofrecer recordatorios personalizados.\n",
    "\n",
    "Incluir beneficios por usar facturación digital (ej: descuentos).\n",
    "\n"
   ]
  },
  {
   "cell_type": "markdown",
   "id": "f8312504",
   "metadata": {},
   "source": [
    "## **Conclusión Final**\n",
    "El análisis revela que la evasión de clientes en TelecomX está influenciada principalmente por el tipo de contrato, la antigüedad del cliente y el servicio de internet. Implementar estrategias de retención enfocadas en estos factores podría reducir significativamente la evasión y mejorar la rentabilidad del negocio.\n",
    "\n",
    " **Próximos pasos**:\n",
    "\n",
    "Profundizar en análisis de satisfacción del cliente.\n",
    "\n",
    "Implementar pruebas A/B para evaluar efectividad de estrategias.\n",
    "\n"
   ]
  }
 ],
 "metadata": {
  "kernelspec": {
   "display_name": "Python 3",
   "language": "python",
   "name": "python3"
  },
  "language_info": {
   "codemirror_mode": {
    "name": "ipython",
    "version": 3
   },
   "file_extension": ".py",
   "mimetype": "text/x-python",
   "name": "python",
   "nbconvert_exporter": "python",
   "pygments_lexer": "ipython3",
   "version": "3.13.5"
  }
 },
 "nbformat": 4,
 "nbformat_minor": 5
}
